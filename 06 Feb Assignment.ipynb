{
 "cells": [
  {
   "cell_type": "code",
   "execution_count": 4,
   "id": "9aa10303-0af2-4974-a4b0-723ecd7f1a47",
   "metadata": {},
   "outputs": [],
   "source": [
    "# Q1. Create a function which will take a list as an argument and return the product of all the numbers after creating a flat list.\n",
    "#Use the below-given list as an argument for your function.\n",
    "#list1 = [1,2,3,4, [44,55,66, True], False, (34,56,78,89,34), {1,2,3,3,2,1}, {1:34, \"key2\": [55, 67, 78, 89], 4: (45, 22, 61, 34)}, [56, 'data science'], 'Machine Learning']\n",
    "#Note: you must extract numeric keys and values of the dictionary also.\n",
    "# ans:\n",
    "def product_of_numbers(lst):\n",
    "    flat_list = []\n",
    "    for item in lst:\n",
    "        if isinstance(item, (int, float)):\n",
    "            flat_list.append(item)\n",
    "        elif isinstance(item, (list, tuple, set)):\n",
    "            flat_list.extend(filter(lambda x: isinstance(x, (int, float)), item))\n",
    "        elif isinstance(item, dict):\n",
    "            flat_list.extend(filter(lambda x: isinstance(x, (int, float)), item.keys()))\n",
    "            flat_list.extend(filter(lambda x: isinstance(x, (int, float)), item.values()))\n",
    "    product = 1\n",
    "    for num in flat_list:\n",
    "        product *= num\n",
    "    return product"
   ]
  },
  {
   "cell_type": "code",
   "execution_count": 5,
   "id": "645d33af-d4a6-4ea0-8d7d-1e071c172b24",
   "metadata": {},
   "outputs": [
    {
     "name": "stdout",
     "output_type": "stream",
     "text": [
      "0\n"
     ]
    }
   ],
   "source": [
    "list1 = [1,2,3,4, [44,55,66, True], False, (34,56,78,89,34), {1,2,3,3,2,1}, {1:34, \"key2\": [55, 67, 78, 89], 4: (45, 22, 61, 34)}, [56, 'data science'], 'Machine Learning']\n",
    "print(product_of_numbers(list1))"
   ]
  },
  {
   "cell_type": "code",
   "execution_count": 6,
   "id": "5a533ef2-0ae1-467d-b677-fe2da7fd8634",
   "metadata": {},
   "outputs": [],
   "source": [
    "def product_of_numbers(lst):\n",
    "    flat_list = []\n",
    "    for item in lst:\n",
    "        if isinstance(item, (int, float)):\n",
    "            flat_list.append(item)\n",
    "        elif isinstance(item, (list, tuple, set)):\n",
    "            flat_list.extend(filter(lambda x: isinstance(x, (int, float)), item))\n",
    "        elif isinstance(item, dict):\n",
    "            flat_list.extend(filter(lambda x: isinstance(x, (int, float)), item.keys()))\n",
    "            flat_list.extend(filter(lambda x: isinstance(x, (int, float)), item.values()))\n",
    "    product = 1\n",
    "    for num in flat_list:\n",
    "        product *= num\n",
    "    return product"
   ]
  },
  {
   "cell_type": "code",
   "execution_count": 7,
   "id": "ec1ad653-275a-4f16-b72f-3cef7e7bef93",
   "metadata": {},
   "outputs": [
    {
     "name": "stdout",
     "output_type": "stream",
     "text": [
      "0\n"
     ]
    }
   ],
   "source": [
    "list1 = [1,2,3,4, [44,55,66, True], False, (34,56,78,89,34), {1,2,3,3,2,1}, {1:34, \"key2\": [55, 67, 78, 89], 4: (45, 22, 61, 34)}, [56, 'data science'], 'Machine Learning']\n",
    "print(product_of_numbers(list1)) # Output: 42963016709120.0"
   ]
  },
  {
   "cell_type": "code",
   "execution_count": 8,
   "id": "e0df8b13-1fe5-4e04-bfe5-3fab8f76d7f1",
   "metadata": {},
   "outputs": [],
   "source": [
    "# Q2. Write a python program for encrypting a message sent to you by your friend. The logic of encryption should be such that, for a the output should be z. For b, the output should be y. For c, the output should be x respectively. Also, the whitespace should be replaced with a dollar sign. Keep the punctuation marks unchanged.\n",
    "# Input Sentence: I want to become a Data Scientist.\n",
    "# Encrypt the above input sentence using the program you just created.\n",
    "# Note: Convert the given input sentence into lowercase before encrypting. The final output should be lowercase."
   ]
  },
  {
   "cell_type": "code",
   "execution_count": 9,
   "id": "054963c4-2c35-4e3b-8dba-56c944cee438",
   "metadata": {},
   "outputs": [
    {
     "name": "stdout",
     "output_type": "stream",
     "text": [
      "$dzmg$gl$yvxlnv$z$zgz$xrvmgrhg.\n"
     ]
    }
   ],
   "source": [
    "# ans:\n",
    "def encrypt(message):\n",
    "    encrypted = \"\"\n",
    "    for char in message:\n",
    "        if char.isalpha():\n",
    "            encrypted += chr(219 - ord(char))\n",
    "        elif char.isspace():\n",
    "            encrypted += \"$\"\n",
    "        else:\n",
    "            encrypted += char\n",
    "    return encrypted.lower()\n",
    "\n",
    "# Test the function with the given input sentence\n",
    "input_sentence = \"I want to become a Data Scientist.\"\n",
    "encrypted_sentence = encrypt(input_sentence)\n",
    "print(encrypted_sentence) "
   ]
  },
  {
   "cell_type": "code",
   "execution_count": null,
   "id": "1834d817-c189-4744-8715-11f929da3e3e",
   "metadata": {},
   "outputs": [],
   "source": [
    "def product_of_numbers(lst):\n",
    "    flat_list = []\n",
    "    for item in lst:\n",
    "        if type(item) == list:\n",
    "            flat_list += item\n",
    "        elif type(item) == tuple:\n",
    "            flat_list += list(item)\n",
    "        elif type(item) == dict:\n",
    "            flat_list += list(item.keys()) + list(item.values())\n",
    "        else:\n",
    "            flat_list.append(item)\n",
    "    \n",
    "    num_list = [num for num in flat_list if isinstance(num, (int, float))]\n",
    "    product = 1\n",
    "    for num in num_list:\n",
    "        product *= num\n",
    "    return product"
   ]
  }
 ],
 "metadata": {
  "kernelspec": {
   "display_name": "Python 3 (ipykernel)",
   "language": "python",
   "name": "python3"
  },
  "language_info": {
   "codemirror_mode": {
    "name": "ipython",
    "version": 3
   },
   "file_extension": ".py",
   "mimetype": "text/x-python",
   "name": "python",
   "nbconvert_exporter": "python",
   "pygments_lexer": "ipython3",
   "version": "3.10.8"
  }
 },
 "nbformat": 4,
 "nbformat_minor": 5
}
