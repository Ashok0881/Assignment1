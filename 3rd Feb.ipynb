{
 "cells": [
  {
   "cell_type": "code",
   "execution_count": 1,
   "id": "d230d07e-725a-4ef8-846d-fa8e15453451",
   "metadata": {},
   "outputs": [],
   "source": [
    "# Q. 1.\tWhich keyword is used to create a function?  Create a function to return a list of all odd number in the range of 1 to 25?"
   ]
  },
  {
   "cell_type": "code",
   "execution_count": 3,
   "id": "6902f60f-048b-482e-bdbf-b913edf1846c",
   "metadata": {},
   "outputs": [
    {
     "name": "stdout",
     "output_type": "stream",
     "text": [
      "[1, 3, 5, 7, 9, 11, 13, 15, 17, 19, 21, 23, 25]\n"
     ]
    }
   ],
   "source": [
    "# asn: \n",
    "def get_odd_numbers():\n",
    "    odd_numbers = []\n",
    "    for num in range(1, 26):\n",
    "        if num % 2 != 0:\n",
    "            odd_numbers.append(num)\n",
    "    return odd_numbers\n",
    "\n",
    "print(get_odd_numbers())\n"
   ]
  },
  {
   "cell_type": "code",
   "execution_count": 1,
   "id": "a5db5637-a7f7-463a-a401-da3b8475b320",
   "metadata": {},
   "outputs": [],
   "source": [
    "#Q 2.\tWhy *args and **kwarge is  used in some functions? Create a function in each of *args and **kwarge demonstrate their use.\n",
    "# ans The *args and **kwargs parameters are used in Python functions to allow a variable number of arguments to be passed to the function. The *args parameter is used to pass a variable number of non-keyword arguments to a function, while **kwargs is used to pass a variable number of keyword arguments."
   ]
  },
  {
   "cell_type": "code",
   "execution_count": 2,
   "id": "9a5e5e70-f1f9-4f6d-9047-7ef6d8bc9554",
   "metadata": {},
   "outputs": [],
   "source": [
    "#*args example\n",
    "def sum_numbers(*args):\n",
    "    total = 0\n",
    "    for num in args:\n",
    "        total += num\n",
    "    return total"
   ]
  },
  {
   "cell_type": "code",
   "execution_count": 3,
   "id": "6a00cef8-1f0a-4e7c-a748-04a8d49f3c95",
   "metadata": {},
   "outputs": [
    {
     "data": {
      "text/plain": [
       "34"
      ]
     },
     "execution_count": 3,
     "metadata": {},
     "output_type": "execute_result"
    }
   ],
   "source": [
    "sum_numbers(1,3,6,7,8,9)"
   ]
  },
  {
   "cell_type": "code",
   "execution_count": 4,
   "id": "4d81df59-850d-47f3-9e8d-ecf6fae1793a",
   "metadata": {},
   "outputs": [],
   "source": [
    "#**kwarge Example\n",
    "def print_kwargs(**kwargs):\n",
    "    for key, value in kwargs.items():\n",
    "        print(f\"{key}: {value}\")"
   ]
  },
  {
   "cell_type": "code",
   "execution_count": 5,
   "id": "d952e262-83c1-4143-acc2-9f5081fd936f",
   "metadata": {},
   "outputs": [
    {
     "name": "stdout",
     "output_type": "stream",
     "text": [
      "name: Ashok\n",
      "age: 27\n",
      "city: Dumka\n"
     ]
    }
   ],
   "source": [
    "print_kwargs(name= 'Ashok', age = 27, city =  'Dumka')"
   ]
  },
  {
   "cell_type": "code",
   "execution_count": 6,
   "id": "6fc1c440-7aa0-4d33-a0d2-e597450c7c54",
   "metadata": {},
   "outputs": [],
   "source": [
    "#Q 3.What is an iterater in Python? Name the method used to initialise the iterator object and the method used for iteration. Use these methods to print the first 5 element of the given list [2, 4, 6, 8, 10, 12, 14, 16, 18, 20].\n",
    "# ans:\n",
    "#In Python, an iterator is an object that enables iteration over a sequence of data. An iterator is an object that produces the next value in a sequence each time the next() method is called on it. Iterators are used to traverse sequences of data, such as lists, tuples, and dictionaries.\n",
    "#The method used to initialize the iterator object is iter(), which takes a sequence (such as a list) as an argument and returns an iterator object.\n",
    "#The method used for iteration is next(), which returns the next value in the sequence each time it is called. Once the iterator has reached the end of the sequence, calling next() will raise a StopIteration exception."
   ]
  },
  {
   "cell_type": "code",
   "execution_count": 7,
   "id": "90915295-052d-4865-a973-2d1f9c570841",
   "metadata": {},
   "outputs": [
    {
     "name": "stdout",
     "output_type": "stream",
     "text": [
      "2\n",
      "4\n",
      "6\n",
      "8\n",
      "10\n"
     ]
    }
   ],
   "source": [
    "# Initialize the iterator object\n",
    "my_list = [2, 4, 6, 8, 10, 12, 14, 16, 18, 20]\n",
    "my_iterator = iter(my_list)\n",
    "\n",
    "# Iterate over the first 5 elements using next()\n",
    "for i in range(5):\n",
    "    print(next(my_iterator))"
   ]
  },
  {
   "cell_type": "code",
   "execution_count": 8,
   "id": "830315d3-b493-4b9c-a8d8-7f850efd5b75",
   "metadata": {},
   "outputs": [],
   "source": [
    "# Q4.What is a generator function in a Python? Why is yield keyword used? Give an example of a generator function.\n",
    "# ans: \n",
    "#In Python, a generator function is a special kind of function that returns an iterator, which can be used to iterate over a sequence of values. A generator function is defined using the 'yield' keyword instead of 'return'. The 'yield' keyword is used to produce a series of values from the function, each time it is called.\n",
    "# The 'yield' keyword is used because it allows the function to produce a sequence of values without having to generate them all at once, which can be memory-intensive for large sequences. Instead, the function can generate each value on-the-fly, as it is needed."
   ]
  },
  {
   "cell_type": "code",
   "execution_count": 9,
   "id": "8b875d29-2cea-436a-b893-ff5e1e00b1eb",
   "metadata": {},
   "outputs": [],
   "source": [
    "def fibonacci(n):\n",
    "    \"\"\"Generate the first n Fibonacci numbers\"\"\"\n",
    "    a, b = 0, 1\n",
    "    for i in range(n):\n",
    "        yield a\n",
    "        a, b = b, a + b"
   ]
  },
  {
   "cell_type": "code",
   "execution_count": 10,
   "id": "44869652-7229-4081-831a-b353d6ae575c",
   "metadata": {},
   "outputs": [
    {
     "name": "stdout",
     "output_type": "stream",
     "text": [
      "0\n",
      "1\n",
      "1\n",
      "2\n",
      "3\n",
      "5\n",
      "8\n",
      "13\n",
      "21\n",
      "34\n"
     ]
    }
   ],
   "source": [
    "for num in fibonacci(10):\n",
    "    print(num)"
   ]
  },
  {
   "cell_type": "code",
   "execution_count": 11,
   "id": "7ec586e3-ae0d-42e8-a90b-033078d17d4a",
   "metadata": {},
   "outputs": [],
   "source": [
    "# Q 5.Create a generator cancel for prime number less than 1000. Use the next() method to print the first 20 prime numbers.\n",
    "# ans:\n",
    "def primes():\n",
    "    \"\"\"Generate prime numbers less than 1000\"\"\"\n",
    "    for num in range(2, 1000):\n",
    "        if all(num % i != 0 for i in range(2, int(num ** 0.5) + 1)):\n",
    "            yield num"
   ]
  },
  {
   "cell_type": "code",
   "execution_count": 13,
   "id": "1bc38522-1db7-4ce5-abea-77fa509c31f4",
   "metadata": {},
   "outputs": [
    {
     "name": "stdout",
     "output_type": "stream",
     "text": [
      "2\n",
      "3\n",
      "5\n",
      "7\n",
      "11\n",
      "13\n",
      "17\n",
      "19\n",
      "23\n",
      "29\n",
      "31\n",
      "37\n",
      "41\n",
      "43\n",
      "47\n",
      "53\n",
      "59\n",
      "61\n",
      "67\n",
      "71\n"
     ]
    }
   ],
   "source": [
    "prime_gen = primes()\n",
    "for i in range(20):\n",
    "    print(next(prime_gen))"
   ]
  },
  {
   "cell_type": "code",
   "execution_count": 14,
   "id": "ab09ccdb-5a5f-451e-afb5-8b6b9a0f147b",
   "metadata": {},
   "outputs": [
    {
     "name": "stdout",
     "output_type": "stream",
     "text": [
      "The first 10 Fibonacci numbers are:\n",
      "0\n",
      "1\n",
      "1\n",
      "2\n",
      "3\n",
      "5\n",
      "8\n",
      "13\n",
      "21\n",
      "34\n"
     ]
    }
   ],
   "source": [
    "# Q6.Write a Python program to print the first 10 Fibonacci number using a while Loop?\n",
    "# ans:\n",
    "a = 0\n",
    "b = 1\n",
    "count = 0\n",
    "\n",
    "print(\"The first 10 Fibonacci numbers are:\")\n",
    "\n",
    "while count < 10:\n",
    "    print(a)\n",
    "    nth = a + b\n",
    "    a = b\n",
    "    b = nth\n",
    "    count += 1"
   ]
  },
  {
   "cell_type": "code",
   "execution_count": 15,
   "id": "0a4a51db-fb0c-4e66-a8ec-21939d916daf",
   "metadata": {},
   "outputs": [
    {
     "name": "stdout",
     "output_type": "stream",
     "text": [
      "['p', 'w', 's', 'k', 'i', 'l', 'l', 's']\n"
     ]
    }
   ],
   "source": [
    "# Q7.Write a list comprehension to iterate through the given string: ‘pwskills’\n",
    "#expected output: [‘p’,’w’,’s’,’k’,’i’,’l’,’l’,’s’]\n",
    "# ans:\n",
    "string = 'pwskills'\n",
    "result = [char for char in string if char in ['p', 'w', 's', 'k', 'i', 'l']]\n",
    "print(result)"
   ]
  },
  {
   "cell_type": "code",
   "execution_count": 16,
   "id": "90f96a94-a859-4429-bdec-5f3b33a0cd82",
   "metadata": {},
   "outputs": [
    {
     "name": "stdin",
     "output_type": "stream",
     "text": [
      "Enter a number:  7\n"
     ]
    },
    {
     "name": "stdout",
     "output_type": "stream",
     "text": [
      "The number is a palindrome!\n"
     ]
    }
   ],
   "source": [
    "# Q8.Write a python  program to check whether a given number palindrome or not using a while loop?\n",
    "#ans:\n",
    "num = int(input(\"Enter a number: \"))\n",
    "\n",
    "temp = num\n",
    "reverse = 0\n",
    "\n",
    "while(temp > 0):\n",
    "    digit = temp % 10\n",
    "    reverse = reverse * 10 + digit\n",
    "    temp = temp // 10\n",
    "\n",
    "if(num == reverse):\n",
    "    print(\"The number is a palindrome!\")\n",
    "else:\n",
    "    print(\"The number is not a palindrome.\")\n"
   ]
  },
  {
   "cell_type": "code",
   "execution_count": 17,
   "id": "07946ed8-9faf-405f-aa76-387b9444489e",
   "metadata": {},
   "outputs": [
    {
     "name": "stdout",
     "output_type": "stream",
     "text": [
      "[1, 3, 5, 7, 9, 11, 13, 15, 17, 19, 21, 23, 25, 27, 29, 31, 33, 35, 37, 39, 41, 43, 45, 47, 49, 51, 53, 55, 57, 59, 61, 63, 65, 67, 69, 71, 73, 75, 77, 79, 81, 83, 85, 87, 89, 91, 93, 95, 97, 99]\n"
     ]
    }
   ],
   "source": [
    "# Q9.write a code to print odd number from 1 to 100 using list comprehension\n",
    "# ans:\n",
    "odd_numbers = [num for num in range(1, 101) if num % 2 != 0]\n",
    "print(odd_numbers)\n"
   ]
  },
  {
   "cell_type": "code",
   "execution_count": null,
   "id": "297dd6a3-2695-41a7-80be-d754d4242187",
   "metadata": {},
   "outputs": [],
   "source": []
  }
 ],
 "metadata": {
  "kernelspec": {
   "display_name": "Python 3 (ipykernel)",
   "language": "python",
   "name": "python3"
  },
  "language_info": {
   "codemirror_mode": {
    "name": "ipython",
    "version": 3
   },
   "file_extension": ".py",
   "mimetype": "text/x-python",
   "name": "python",
   "nbconvert_exporter": "python",
   "pygments_lexer": "ipython3",
   "version": "3.10.8"
  }
 },
 "nbformat": 4,
 "nbformat_minor": 5
}
