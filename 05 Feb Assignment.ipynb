{
 "cells": [
  {
   "cell_type": "code",
   "execution_count": 1,
   "id": "5478b016-2a60-406b-bb99-a37ad5d2a45a",
   "metadata": {},
   "outputs": [],
   "source": [
    "# Q1. Explain Class and Object with respect to Object-Oriented Programming. Give a suitable example.\n",
    "#ans:\n",
    "#Object-Oriented Programming (OOP) is a programming paradigm that uses objects as the basic building blocks of a program. An object is an instance of a class, which is a blueprint for creating objects. In OOP, classes are used to define the attributes and behaviors of objects, while objects are used to represent individual instances of a class.\n",
    "# A class is a user-defined data type that encapsulates data and functions that operate on that data. It is a template or blueprint that defines the properties and methods that an object of that class can have. A class can have properties (also known as attributes) that define the data that the objects of the class will store. It can also have methods (also known as functions) that define the behaviors that the objects of the class can perform.\n",
    "#An object is an instance of a class. It is a real-world entity that has a specific state and behavior. When an object is created, it inherits the properties and methods of its class. Each object has its own state, which is determined by the values of its attributes. Objects can interact with each other by invoking methods on each other.\n",
    "#Let's take an example of a Car class to understand the concepts of class and object in OOP.\n",
    "class Car:\n",
    "    def __init__(self, make, model, year, color):\n",
    "        self.make = make\n",
    "        self.model = model\n",
    "        self.year = year\n",
    "        self.color = color\n",
    "        self.current_speed = 0\n",
    "    \n",
    "    def accelerate(self, speed):\n",
    "        self.current_speed += speed\n",
    "    \n",
    "    def brake(self, speed):\n",
    "        self.current_speed -= speed\n",
    "    \n",
    "    def get_current_speed(self):\n",
    "        return self.current_speed"
   ]
  },
  {
   "cell_type": "code",
   "execution_count": 2,
   "id": "3ba63b1d-64a5-43b3-8a28-64a7833235cb",
   "metadata": {},
   "outputs": [],
   "source": [
    "car1 = Car('Honda', 'Civic', 2022, 'Red')\n",
    "car2 = Car('Toyota', 'Corolla', 2021, 'Blue')"
   ]
  },
  {
   "cell_type": "code",
   "execution_count": 3,
   "id": "ad0288f8-2712-41a5-8ff4-aa5b867eed8c",
   "metadata": {},
   "outputs": [
    {
     "name": "stdout",
     "output_type": "stream",
     "text": [
      "Honda\n",
      "Civic\n",
      "2022\n",
      "Red\n"
     ]
    }
   ],
   "source": [
    "print(car1.make)          # prints 'Honda'\n",
    "print(car1.model)         # prints 'Civic'\n",
    "print(car1.year)          # prints 2022\n",
    "print(car1.color)         # prints 'Red'"
   ]
  },
  {
   "cell_type": "code",
   "execution_count": 4,
   "id": "4c90c89b-6681-41ee-9248-99c1e4d3689a",
   "metadata": {},
   "outputs": [],
   "source": [
    "# Q2. Name the four pillars of OOPs.\n",
    "# ans:\n",
    "# The four pillars of Object-Oriented Programming (OOP) are:\n",
    "# 1.Encapsulation: It is a mechanism that binds the data (attributes) and methods (behaviors) that operate on that data within a single unit called a class. Encapsulation helps in hiding the implementation details of a class from the outside world, and it allows the class to change its internal implementation without affecting the other parts of the program.\n",
    "# 2. Inheritance: It is a mechanism that allows a new class (derived class) to inherit the properties and methods of an existing class (base class). Inheritance promotes code reusability and allows us to create new classes that are based on the existing classes.\n",
    "# 3. Polymorphism: It is a mechanism that allows objects of different classes to be treated as if they belong to a common class hierarchy. Polymorphism allows us to write generic code that can handle objects of different types and perform different actions depending on the object type.\n",
    "# 4. Abstraction: It is a mechanism that allows us to represent complex real-world entities in a simplified manner. Abstraction allows us to focus on the essential features of an object and ignore the irrelevant details. It helps in reducing the complexity of a program and makes it easier to understand and modify.\n"
   ]
  },
  {
   "cell_type": "code",
   "execution_count": 5,
   "id": "e69a63f7-ed5a-4018-9c7e-8ee766b2da1c",
   "metadata": {},
   "outputs": [
    {
     "name": "stdout",
     "output_type": "stream",
     "text": [
      "Honda\n",
      "Civic\n",
      "2021\n"
     ]
    }
   ],
   "source": [
    "# Q3. Explain why the __init__() function is used. Give a suitable example.\n",
    "# ans:\n",
    "# In Python, the init() function is a special method that is used to initialize the instance variables of a class when an object of that class is created. It is called a constructor method because it is automatically called when a new instance of a class is created.\n",
    "# The primary purpose of the init() method is to set the initial values of the attributes of an object. It provides a way to ensure that the object is created with all the required attributes initialized to some default or user-specified values.\n",
    "# For example, suppose we have a class called Car that has attributes like make, model, and year. We can use the init() method to initialize these attributes when a new object of the Car class is created.\n",
    "class Car:\n",
    "    def __init__(self, make, model, year):\n",
    "        self.make = make\n",
    "        self.model = model\n",
    "        self.year = year\n",
    "\n",
    "my_car = Car('Honda', 'Civic', 2021)\n",
    "print(my_car.make)  # Output: Honda\n",
    "print(my_car.model)  # Output: Civic\n",
    "print(my_car.year)  # Output: 2021\n"
   ]
  },
  {
   "cell_type": "code",
   "execution_count": 6,
   "id": "5552ee2a-97b0-4956-bca1-a51c95026073",
   "metadata": {},
   "outputs": [
    {
     "name": "stdout",
     "output_type": "stream",
     "text": [
      "Hello, my name is Alice and I am 25 years old.\n"
     ]
    }
   ],
   "source": [
    "# Q4. Why self is used in OOPs?\n",
    "# ans:\n",
    "# In Object-Oriented Programming (OOP), self is a special keyword that refers to the instance of a class. It is used to refer to the attributes and methods of the current object within the class definition.\n",
    "# The self keyword is used in OOP to differentiate between the instance variables of a class and the local variables of a method. When a method is called on an object, the self keyword is automatically passed as the first argument to the method, which refers to the object itself. This allows the method to access and modify the attributes of the object.\n",
    "# For example\n",
    "class Person:\n",
    "    def __init__(self, name, age):\n",
    "        self.name = name\n",
    "        self.age = age\n",
    "    \n",
    "    def say_hello(self):\n",
    "        print(\"Hello, my name is\", self.name, \"and I am\", self.age, \"years old.\")\n",
    "\n",
    "person1 = Person(\"Alice\", 25)\n",
    "person1.say_hello()  # Output: Hello, my name is Alice and I am 25 years old.\n"
   ]
  },
  {
   "cell_type": "code",
   "execution_count": 7,
   "id": "f7d1a766-37bc-4b63-8a5f-2f45d54769bd",
   "metadata": {},
   "outputs": [
    {
     "name": "stdout",
     "output_type": "stream",
     "text": [
      "Buddy barks\n"
     ]
    }
   ],
   "source": [
    "# Q5. What is inheritance? Give an example for each type of inheritance.\n",
    "# ans:\n",
    "# Inheritance is a key concept in Object-Oriented Programming (OOP) that allows a new class to be based on an existing class, inheriting all its attributes and methods. Inheritance enables code reuse, reduces code duplication, and facilitates building complex systems in a modular way.\n",
    "# There are mainly four types of inheritance:\n",
    "# 1.Single inheritance: In single inheritance, a subclass is derived from a single superclass. It means that a child class can inherit only from one parent class.\n",
    "# example\n",
    "class Animal:\n",
    "    def __init__(self, name):\n",
    "        self.name = name\n",
    "    \n",
    "    def sound(self):\n",
    "        pass\n",
    "\n",
    "class Dog(Animal):\n",
    "    def sound(self):\n",
    "        print(self.name + \" barks\")\n",
    "\n",
    "dog1 = Dog(\"Buddy\")\n",
    "dog1.sound()  # Output: Buddy barks\n"
   ]
  },
  {
   "cell_type": "code",
   "execution_count": 8,
   "id": "a0d8be36-e62d-4629-a232-38f6dc6b1636",
   "metadata": {},
   "outputs": [
    {
     "name": "stdout",
     "output_type": "stream",
     "text": [
      "Alice\n",
      "1234\n"
     ]
    }
   ],
   "source": [
    "# 2. Multiple inheritance: In multiple inheritance, a subclass is derived from multiple base classes. It means that a child class can inherit from multiple parent classes.\n",
    "# Example\n",
    "class Person:\n",
    "    def __init__(self, name, age):\n",
    "        self.name = name\n",
    "        self.age = age\n",
    "\n",
    "class Employee:\n",
    "    def __init__(self, id):\n",
    "        self.id = id\n",
    "    \n",
    "    def get_id(self):\n",
    "        return self.id\n",
    "\n",
    "class Manager(Person, Employee):\n",
    "    def __init__(self, name, age, id):\n",
    "        Person.__init__(self, name, age)\n",
    "        Employee.__init__(self, id)\n",
    "\n",
    "manager1 = Manager(\"Alice\", 30, 1234)\n",
    "print(manager1.name)  # Output: Alice\n",
    "print(manager1.get_id())  # Output: 1234\n"
   ]
  },
  {
   "cell_type": "code",
   "execution_count": 9,
   "id": "d13c40c3-7679-4cc3-bb03-b7dc21562e37",
   "metadata": {},
   "outputs": [
    {
     "name": "stdout",
     "output_type": "stream",
     "text": [
      "Buddy barks\n",
      "Kitty meows\n"
     ]
    }
   ],
   "source": [
    "# 3. Hierarchical inheritance: In hierarchical inheritance, multiple subclasses are derived from a single superclass.\n",
    "# example\n",
    "class Animal:\n",
    "    def __init__(self, name):\n",
    "        self.name = name\n",
    "    \n",
    "    def sound(self):\n",
    "        pass\n",
    "\n",
    "class Dog(Animal):\n",
    "    def sound(self):\n",
    "        print(self.name + \" barks\")\n",
    "\n",
    "class Cat(Animal):\n",
    "    def sound(self):\n",
    "        print(self.name + \" meows\")\n",
    "\n",
    "dog1 = Dog(\"Buddy\")\n",
    "cat1 = Cat(\"Kitty\")\n",
    "\n",
    "dog1.sound()  # Output: Buddy barks\n",
    "cat1.sound()  # Output: Kitty meows\n"
   ]
  },
  {
   "cell_type": "code",
   "execution_count": null,
   "id": "97a4f186-6bb3-4c85-babd-3f64b0914797",
   "metadata": {},
   "outputs": [],
   "source": []
  }
 ],
 "metadata": {
  "kernelspec": {
   "display_name": "Python 3 (ipykernel)",
   "language": "python",
   "name": "python3"
  },
  "language_info": {
   "codemirror_mode": {
    "name": "ipython",
    "version": 3
   },
   "file_extension": ".py",
   "mimetype": "text/x-python",
   "name": "python",
   "nbconvert_exporter": "python",
   "pygments_lexer": "ipython3",
   "version": "3.10.8"
  }
 },
 "nbformat": 4,
 "nbformat_minor": 5
}
