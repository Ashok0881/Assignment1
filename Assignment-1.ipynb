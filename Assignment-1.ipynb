{
 "cells": [
  {
   "cell_type": "code",
   "execution_count": 1,
   "id": "47afec80-21b6-4fc6-a835-8531f8849b72",
   "metadata": {},
   "outputs": [],
   "source": [
    "# Q.Who Developed Python Programming language?\n",
    "# ans:Python was developed by Guido van Rossum."
   ]
  },
  {
   "cell_type": "code",
   "execution_count": 4,
   "id": "ef505886-43df-4a60-9b81-def18c94d358",
   "metadata": {},
   "outputs": [],
   "source": [
    "#  Q.Which type of programming does python support?\n",
    "#  ans:Python supports multiple programming paradigms, including:\n",
    "# 1. Object-Oriented Programming (OOP): Python provides support for object-oriented programming through classes, objects, and inheritance.\n",
    "# 2.Imperative programming: Python allows for imperative programming through procedural programming constructs such as functions, loops, and conditional statements.\n",
    "# 3.Functional Programming: Python provides functional programming constructs such as first-class functions, higher-order functions, and closures.\n",
    "# 4.Procedural programming: Python provides support for procedural programming through its functions and modules, which allow for code organization and reuse.\n",
    "# 5.Scripting: Python can be used as a scripting language to automate repetitive tasks, extract data from files, or perform system administration tasks.\n",
    "# In essence, Python provides a versatile and flexible environment that can accommodate different programming styles, making it a great choice for a wide range of tasks and projects."
   ]
  },
  {
   "cell_type": "code",
   "execution_count": 5,
   "id": "bfa2f401-1115-46e6-9e1a-0727e6be7480",
   "metadata": {},
   "outputs": [],
   "source": [
    "# Q.Is python case sensitive when dealing with identifiers ?\n",
    "# ans: Yes, Python is case-sensitive when dealing with identifiers, such as variable names, function names, and class names."
   ]
  },
  {
   "cell_type": "code",
   "execution_count": 6,
   "id": "6614d945-98f2-4e35-8604-06730ae01039",
   "metadata": {},
   "outputs": [],
   "source": [
    "# What is the correct extension of the python file ?\n",
    "# ans: The correct extension for a Python file is '.py'."
   ]
  },
  {
   "cell_type": "code",
   "execution_count": 7,
   "id": "63a1bb21-babb-44a9-a0dc-878fb568fc16",
   "metadata": {},
   "outputs": [],
   "source": [
    "# Q.Is python code compiled or interpreted ?\n",
    "# ans: Python is an interpreted language, which means that the source code is compiled at runtime, rather than being compiled ahead of time into machine code."
   ]
  },
  {
   "cell_type": "code",
   "execution_count": 11,
   "id": "4237a20d-6d39-4958-a340-335db25e2ab2",
   "metadata": {},
   "outputs": [],
   "source": [
    "# Q. Name a few blocks of code used to define in python language ?\n",
    "# ans: In Python, there are several blocks of code used to define different structures, such as functions, classes, loops, and conditionals. Here are a few examples:\n",
    "#     1.Function definition: Functions are defined using the def keyword, followed by the function name and its parameters within parentheses, and a colon. The code inside the function is indented under the definition line. For example:\n",
    "def say_hello(name):\n",
    "    print(\"Hello, \" + name)\n",
    "# 2. Class definition: Classes are defined using the class keyword, followed by the class name and a colon. The code inside the class is indented under the definition line. For example:\n",
    "class Dog:\n",
    "    def _init_(self, name, breed):\n",
    "        self.name = name\n",
    "        self.breed = breed\n",
    "    def bark(self):\n",
    "        print(\"Wolf\")"
   ]
  },
  {
   "cell_type": "code",
   "execution_count": 12,
   "id": "0b39fb8d-b337-4ab4-ba0e-091bd5ce5b3d",
   "metadata": {},
   "outputs": [],
   "source": [
    "# Q. State a character used to give single-line comments in python ?\n",
    "# ans: In Python, the '#' symbol is used to give single-line comments. Anything following a '#' symbol on a line is ignored by the Python interpreter, and is not executed."
   ]
  },
  {
   "cell_type": "code",
   "execution_count": 13,
   "id": "6a59e83a-3243-4433-adc6-8272af34df0f",
   "metadata": {},
   "outputs": [],
   "source": [
    "# Q. Mention functions which can help us to find the version of python that we are currently working ?\n",
    "# ans: There are several functions that you can use to find the version of Python that you are currently working with:\n",
    "#     1.' sys.version ': You can use the sys module and the version attribute to get information about the Python version.\n",
    "#     2.' platform.python_version()': You can use the platform module and the python_version() function to get the version number of the Python interpreter as a string.\n",
    "#     3.'sys.version_info': You can use the sys module and the version_info attribute to get the version number of the Python interpreter as a tuple of integers. \n",
    "    "
   ]
  },
  {
   "cell_type": "code",
   "execution_count": 14,
   "id": "05ae66d5-8b47-4755-85ef-8ba5d6600f96",
   "metadata": {},
   "outputs": [],
   "source": [
    "# Q. Python support the creation of anonymous functions at runtime, using a construct called\n",
    "# ans: lambda expressions."
   ]
  },
  {
   "cell_type": "code",
   "execution_count": 15,
   "id": "0db223a5-d784-4a32-b7c8-25494ba4bd80",
   "metadata": {},
   "outputs": [],
   "source": [
    "# Q. What does pip stand for python ?\n",
    "# ans: 'pip' stands for \"Pip Installs Packages.\" It is the package manager for Python, which allows you to install and manage packages for your Python environment."
   ]
  },
  {
   "cell_type": "code",
   "execution_count": 16,
   "id": "55a6b6ad-9509-46cb-89a0-3bcc75d53782",
   "metadata": {},
   "outputs": [],
   "source": [
    "# Q. Mention a few built-in functions in python ?\n",
    "# ans: Python has many built-in functions that can be used to perform various tasks, some of them are:\n",
    "#    1.  print(): prints output to the console\n",
    "#    2.  len(): returns the length of an object\n",
    "#    3.  range(): generates a sequence of numbers\n",
    "#    4.  sum(): calculates the sum of elements in an iterable\n",
    "#    5.  min(): returns the minimum value in an iterable"
   ]
  },
  {
   "cell_type": "code",
   "execution_count": 17,
   "id": "86cc8da1-359b-4ac4-828d-63996d8c1e27",
   "metadata": {},
   "outputs": [],
   "source": [
    "# Q. What is the maximum possible length of an identifier in python ?\n",
    "# ans: In Python, there is no limit on the length of an identifier. An identifier can have any length, as long as it is less than the maximum length that your operating system and file system support for file names."
   ]
  },
  {
   "cell_type": "code",
   "execution_count": 18,
   "id": "a43c7da0-f107-48ce-b999-3599f2bca0fb",
   "metadata": {},
   "outputs": [],
   "source": [
    "# Q. What are the benefits of using python ?\n",
    "# ans: There are many benefits of using Python as a programming language, some of which include:\n",
    "#     1. Easy to learn and use: Python has a simple and straightforward syntax that is easy to learn, even for those with no prior programming experience.\n",
    "#     2. Versatile: Python is used in a wide range of applications, including web development, scientific computing, data analysis, artificial intelligence, and more.\n",
    "#     3. Large community and ecosystem: Python has a large and active community of users, which provides support and resources for learning and development.\n",
    "#     4. High-level language: Python is a high-level programming language, which means that it provides higher-level abstractions and is easier to read and write than low-level languages like C or Assembly.\n",
    "#     5. Dynamic typing: Python is dynamically typed, which means that variables can change their type at runtime.\n",
    "#     6. Object-oriented programming: Python supports object-oriented programming (OOP), which is a programming paradigm that organizes code into objects and classes. OOP can help make your code more modular, maintainable, and reusable.\n",
    "#     7. Interpreted language: Python is an interpreted language, which means that it does not need to be compiled before it is executed. \n",
    "#     8.Cross-platform compatibility: Python runs on multiple platforms, including Windows, macOS, and Linux, and can be used to develop cross-platform applications."
   ]
  },
  {
   "cell_type": "code",
   "execution_count": 19,
   "id": "233c6364-9744-49b4-a6a2-9ac1c8c8b816",
   "metadata": {},
   "outputs": [],
   "source": [
    "# Q. How is memory managed in python ?\n",
    "# ans: Memory management in Python is managed automatically by the Python memory manager. The memory manager is responsible for allocating and freeing memory for Python objects, as well as managing other memory-related tasks like garbage collection."
   ]
  },
  {
   "cell_type": "code",
   "execution_count": 20,
   "id": "baa674b1-888c-4e07-8f3c-19cb7db63c34",
   "metadata": {},
   "outputs": [],
   "source": [
    "# Q. How to install python on windows and set path variables ?\n",
    "# ans: Here are the steps to install Python on Windows and set the path variables:\n",
    "#     1. Download the Python installer: Go to the official Python website (https://www.python.org) and download the latest version of Python for Windows. The installer should be in the form of a .exe file.\n",
    "#     2. Run the installer: Double-click the .exe file to run the installer and follow the on-screen instructions to install Python. Be sure to choose the option to \"Add Python to PATH\" during the installation process.\n",
    "#     3. Verify the installation: Open the Command Prompt and type python to verify that Python is installed and working. You should see the Python REPL (Read-Eval-Print Loop) prompt, which indicates that Python is ready to accept commands.\n",
    "#     4. Set the path variables: To set the path variables in Windows, follow these steps:\n",
    "#         a. Right-click the Start button and select \"System.\"\n",
    "#         b. Click \"Advanced system settings\" to open the System Properties dialog.\n",
    "#         c. Click the \"Environment Variables\" button to open the Environment Variables dialog.\n",
    "#         d. Under \"System Variables,\" scroll down and find the \"Path\" variable, then click \"Edit.\"\n",
    "#         e. Click \"New\" and enter the path to the Python installation, such as C:\\PythonXX\\ where XX is the version number of Python you have installed.\n",
    "#         f. Click OK to close all the dialogs and save the changes.\n",
    "# Now, you should be able to run Python from the Command Prompt by simply typing python. You can also run Python scripts by typing the name of the script file, followed by the'.py' extension."
   ]
  },
  {
   "cell_type": "code",
   "execution_count": null,
   "id": "f0ae71b9-c2e4-470e-ac5c-d69c5c6da5ec",
   "metadata": {},
   "outputs": [],
   "source": [
    "# Q. Is indentation required in python ?\n",
    "# ans: Yes, indentation is required in Python to define the scope of code blocks."
   ]
  }
 ],
 "metadata": {
  "kernelspec": {
   "display_name": "Python 3 (ipykernel)",
   "language": "python",
   "name": "python3"
  },
  "language_info": {
   "codemirror_mode": {
    "name": "ipython",
    "version": 3
   },
   "file_extension": ".py",
   "mimetype": "text/x-python",
   "name": "python",
   "nbconvert_exporter": "python",
   "pygments_lexer": "ipython3",
   "version": "3.10.8"
  }
 },
 "nbformat": 4,
 "nbformat_minor": 5
}
