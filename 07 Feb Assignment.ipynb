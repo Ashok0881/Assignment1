{
 "cells": [
  {
   "cell_type": "code",
   "execution_count": 1,
   "id": "6c169e41-7959-431e-89eb-616fbdefc063",
   "metadata": {},
   "outputs": [],
   "source": [
    "# Q1. You are writing code for a company. The requirement of the company is that you create a python function that will check whether the password entered by the user is correct or not. The function should take the password as input and return the string “Valid Password” if the entered password follows the below-given password guidelines else it should return “Invalid Password”.\n",
    "# The Password should contain at least two uppercase letters and at least two lowercase letters.\n",
    "# ans:\n",
    "def check_password(password):\n",
    "    upper_count = 0\n",
    "    lower_count = 0\n",
    "    digit_count = 0\n",
    "    special_count = 0\n",
    "    \n",
    "    for char in password:\n",
    "        if char.isupper():\n",
    "            upper_count += 1\n",
    "        elif char.islower():\n",
    "            lower_count += 1\n",
    "        elif char.isdigit():\n",
    "            digit_count += 1\n",
    "        elif char in \"!@#$%^&*()_+-={}[]|\\:;\\\"'<>,.?/\":\n",
    "            special_count += 1\n",
    "    \n",
    "    if (upper_count >= 2 and lower_count >= 2 and digit_count >= 1 and special_count >= 3\n",
    "            and len(password) == 10):\n",
    "        return \"Valid Password\"\n",
    "    else:\n",
    "        return \"Invalid Password\""
   ]
  },
  {
   "cell_type": "code",
   "execution_count": 5,
   "id": "15605273-45f6-43f4-95bb-7ff63b6c8ae2",
   "metadata": {},
   "outputs": [
    {
     "name": "stdout",
     "output_type": "stream",
     "text": [
      "Invalid Password\n"
     ]
    }
   ],
   "source": [
    "print(check_password(\"Abcdefg123@\"))"
   ]
  },
  {
   "cell_type": "code",
   "execution_count": 6,
   "id": "317107e1-70dd-481a-a6e6-97d319475814",
   "metadata": {},
   "outputs": [
    {
     "name": "stdout",
     "output_type": "stream",
     "text": [
      "Invalid Password\n"
     ]
    }
   ],
   "source": [
    "print(check_password(\"Abcdefg123\")) "
   ]
  },
  {
   "cell_type": "code",
   "execution_count": 8,
   "id": "2d33316d-aef1-4124-8952-2e214fca6458",
   "metadata": {},
   "outputs": [
    {
     "name": "stdout",
     "output_type": "stream",
     "text": [
      "Invalid Password\n"
     ]
    }
   ],
   "source": [
    "print(check_password(\"abcdefghi@\"))"
   ]
  },
  {
   "cell_type": "code",
   "execution_count": 9,
   "id": "ca0d61c2-2b70-453f-92b6-9d1d7fac432f",
   "metadata": {},
   "outputs": [
    {
     "name": "stdout",
     "output_type": "stream",
     "text": [
      "Invalid Password\n"
     ]
    }
   ],
   "source": [
    "print(check_password(\"Abcd!@#defg\"))"
   ]
  },
  {
   "cell_type": "code",
   "execution_count": 11,
   "id": "b8096987-f18e-4e1b-ac40-1add35ce20d0",
   "metadata": {},
   "outputs": [],
   "source": [
    "# Q2. Solve the below-given questions using at least one of the following:\n",
    "# 1. Lambda functioJ\n",
    "# 2. Filter functioJ\n",
    "# 3. Zap functioJ\n",
    "# 4. List ComprehensioI\n",
    "# ans:"
   ]
  },
  {
   "cell_type": "code",
   "execution_count": 12,
   "id": "6d6a3eac-b81e-4adc-b4b5-64a617db9e70",
   "metadata": {},
   "outputs": [
    {
     "name": "stdout",
     "output_type": "stream",
     "text": [
      "True\n"
     ]
    }
   ],
   "source": [
    "# Check if the string starts with a particular letter\n",
    "string = \"Hello world\"\n",
    "starts_with_h = lambda s: s.startswith('H')\n",
    "print(starts_with_h(string))"
   ]
  },
  {
   "cell_type": "code",
   "execution_count": 13,
   "id": "21bb177c-32e8-4428-a1be-860f64be6325",
   "metadata": {},
   "outputs": [
    {
     "name": "stdout",
     "output_type": "stream",
     "text": [
      "True\n"
     ]
    }
   ],
   "source": [
    "# Check if the string is numeric.\n",
    "string = \"12345\"\n",
    "is_numeric = lambda s: s.isnumeric()\n",
    "print(is_numeric(string))"
   ]
  },
  {
   "cell_type": "code",
   "execution_count": 14,
   "id": "b927a7c2-dcb7-4d8a-91a1-22bd1f84191b",
   "metadata": {},
   "outputs": [
    {
     "name": "stdout",
     "output_type": "stream",
     "text": [
      "[('orange', 80), ('mango', 99), ('grapes', 1000)]\n"
     ]
    }
   ],
   "source": [
    "# Sort a list of tuples having fruit names and their quantity. [(\"mango\",99),(\"orange\",80), (\"grapes\", 1000)]\n",
    "fruits = [(\"mango\", 99), (\"orange\", 80), (\"grapes\", 1000)]\n",
    "sorted_fruits = sorted(fruits, key=lambda x: x[1])\n",
    "print(sorted_fruits)"
   ]
  },
  {
   "cell_type": "code",
   "execution_count": 15,
   "id": "487fb275-78b6-42f6-9a76-e8b4c6dfa92a",
   "metadata": {},
   "outputs": [
    {
     "name": "stdout",
     "output_type": "stream",
     "text": [
      "[1, 4, 9, 16, 25, 36, 49, 64, 81, 100]\n"
     ]
    }
   ],
   "source": [
    "#Find the squares of numbers from 1 to 10.\n",
    "squares = [x**2 for x in range(1, 11)]\n",
    "print(squares)"
   ]
  },
  {
   "cell_type": "code",
   "execution_count": 16,
   "id": "f1583155-cbd3-47e6-be6b-f2cc911f0b2c",
   "metadata": {},
   "outputs": [
    {
     "name": "stdout",
     "output_type": "stream",
     "text": [
      "[1.0, 1.26, 1.44, 1.59, 1.71, 1.82, 1.91, 2.0, 2.08, 2.15]\n"
     ]
    }
   ],
   "source": [
    "# Find the cube root of numbers from 1 to 10.\n",
    "import math\n",
    "cube_roots = list(map(lambda x: round(math.pow(x, 1/3), 2), range(1, 11)))\n",
    "print(cube_roots)"
   ]
  },
  {
   "cell_type": "code",
   "execution_count": 17,
   "id": "34b3db23-4dd0-45f0-99fb-ece04e893d99",
   "metadata": {},
   "outputs": [
    {
     "name": "stdout",
     "output_type": "stream",
     "text": [
      "True\n"
     ]
    }
   ],
   "source": [
    "# Check if a given number is even.\n",
    "number = 10\n",
    "is_even = lambda x: x % 2 == 0\n",
    "print(is_even(number))"
   ]
  },
  {
   "cell_type": "code",
   "execution_count": 18,
   "id": "ae76583f-a547-4c38-90b3-b1ebd5a01467",
   "metadata": {},
   "outputs": [
    {
     "name": "stdout",
     "output_type": "stream",
     "text": [
      "[1, 3, 5, 7, 9]\n"
     ]
    }
   ],
   "source": [
    "# Filter odd numbers from the given list.\n",
    "#  [1,2,3,4,5,6,7,8,9,10]\n",
    "numbers = [1, 2, 3, 4, 5, 6, 7, 8, 9, 10]\n",
    "odd_numbers = list(filter(lambda x: x % 2 != 0, numbers))\n",
    "print(odd_numbers)"
   ]
  },
  {
   "cell_type": "code",
   "execution_count": null,
   "id": "b4c1e793-876e-4acd-8a0c-8fb847255cbf",
   "metadata": {},
   "outputs": [],
   "source": [
    "# Sort a list of integers into positive and negative integers lists.\n",
    "# [1,2,3,4,5,6,-1,-2,-3,-4,-5,0]"
   ]
  }
 ],
 "metadata": {
  "kernelspec": {
   "display_name": "Python 3 (ipykernel)",
   "language": "python",
   "name": "python3"
  },
  "language_info": {
   "codemirror_mode": {
    "name": "ipython",
    "version": 3
   },
   "file_extension": ".py",
   "mimetype": "text/x-python",
   "name": "python",
   "nbconvert_exporter": "python",
   "pygments_lexer": "ipython3",
   "version": "3.10.8"
  }
 },
 "nbformat": 4,
 "nbformat_minor": 5
}
