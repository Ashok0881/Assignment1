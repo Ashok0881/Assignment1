{
 "cells": [
  {
   "cell_type": "code",
   "execution_count": 1,
   "id": "63f329e9-f195-4287-8b84-972eb039b70c",
   "metadata": {},
   "outputs": [],
   "source": [
    "# Q1, Create a vehicle class with an init method having instance variables as name_of_vehicle, max_speed and average_of_vehicle.\n",
    "# ans:\n",
    "class Vehicle:\n",
    "    def __init__(self, name_of_vehicle, max_speed, average_of_vehicle):\n",
    "        self.name_of_vehicle = name_of_vehicle\n",
    "        self.max_speed = max_speed\n",
    "        self.average_of_vehicle = average_of_vehicle"
   ]
  },
  {
   "cell_type": "code",
   "execution_count": 2,
   "id": "eac9f2f5-56fa-4a57-aaf0-9141d5fc3b47",
   "metadata": {},
   "outputs": [
    {
     "name": "stdout",
     "output_type": "stream",
     "text": [
      "Car\n",
      "200\n",
      "50\n"
     ]
    }
   ],
   "source": [
    "car = Vehicle(\"Car\", 200, 50)\n",
    "print(car.name_of_vehicle)\n",
    "print(car.max_speed)\n",
    "print(car.average_of_vehicle)"
   ]
  },
  {
   "cell_type": "code",
   "execution_count": 3,
   "id": "6b79e0fc-2a59-4a55-9e91-d6afafe5fe57",
   "metadata": {},
   "outputs": [],
   "source": [
    "# Q2. Create a child class car from the vehicle class created in Que 1, which will inherit the vehicle class. Create a method named seating_capacity which takes capacity as an argument and returns the name of the vehicle and its seating capacity.\n",
    "# ans:\n",
    "class Car(Vehicle):\n",
    "    def __init__(self, name_of_vehicle, max_speed, average_of_vehicle):\n",
    "        super().__init__(name_of_vehicle, max_speed, average_of_vehicle)\n",
    "        \n",
    "    def seating_capacity(self, capacity):\n",
    "        return f\"{self.name_of_vehicle} has a seating capacity of {capacity} passengers.\""
   ]
  },
  {
   "cell_type": "code",
   "execution_count": 4,
   "id": "7c173300-7c5e-4e64-a839-771f489a046e",
   "metadata": {},
   "outputs": [
    {
     "name": "stdout",
     "output_type": "stream",
     "text": [
      "Car has a seating capacity of 4 passengers.\n"
     ]
    }
   ],
   "source": [
    "car = Car(\"Car\", 200, 50)\n",
    "print(car.seating_capacity(4))\n"
   ]
  },
  {
   "cell_type": "code",
   "execution_count": 5,
   "id": "35912b91-6654-43cb-bf4a-672ab167f807",
   "metadata": {},
   "outputs": [],
   "source": [
    "# Q3. What is multiple inheritance? Write a python code to demonstrate multiple inheritance.\n",
    "# ans:\n",
    "# Multiple inheritance is a feature of object-oriented programming languages that allows a class to inherit attributes and methods from more than one parent class. \n",
    "# In Python, a class can inherit from multiple parent classes by specifying them in the parentheses after the class name, separated by commas.\n",
    "# Example\n",
    "class Vehicle:\n",
    "    def __init__(self, name_of_vehicle, max_speed):\n",
    "        self.name_of_vehicle = name_of_vehicle\n",
    "        self.max_speed = max_speed\n",
    "        \n",
    "    def start(self):\n",
    "        print(f\"{self.name_of_vehicle} has started.\")\n",
    "        \n",
    "    def stop(self):\n",
    "        print(f\"{self.name_of_vehicle} has stopped.\")\n",
    "        \n",
    "class Electric:\n",
    "    def __init__(self, battery_capacity):\n",
    "        self.battery_capacity = battery_capacity\n",
    "        \n",
    "    def charge(self):\n",
    "        print(\"The battery is charging.\")\n",
    "        \n",
    "class HybridCar(Vehicle, Electric):\n",
    "    def __init__(self, name_of_vehicle, max_speed, battery_capacity):\n",
    "        Vehicle.__init__(self, name_of_vehicle, max_speed)\n",
    "        Electric.__init__(self, battery_capacity)\n",
    "        \n",
    "    def drive(self):\n",
    "        print(f\"{self.name_of_vehicle} is driving with a max speed of {self.max_speed} and a battery capacity of {self.battery_capacity}.\")"
   ]
  },
  {
   "cell_type": "code",
   "execution_count": 6,
   "id": "79621808-c2bf-4731-8b18-10d3a286098f",
   "metadata": {},
   "outputs": [
    {
     "name": "stdout",
     "output_type": "stream",
     "text": [
      "Toyota Prius has started.\n",
      "The battery is charging.\n",
      "Toyota Prius is driving with a max speed of 100 and a battery capacity of 50.\n",
      "Toyota Prius has stopped.\n"
     ]
    }
   ],
   "source": [
    "car = HybridCar(\"Toyota Prius\", 100, 50)\n",
    "car.start()\n",
    "car.charge()\n",
    "car.drive()\n",
    "car.stop()"
   ]
  },
  {
   "cell_type": "code",
   "execution_count": 7,
   "id": "2df3d3a2-d9b4-4200-9c5d-e09f684ce78b",
   "metadata": {},
   "outputs": [],
   "source": [
    "# Q4. What are getter and setter in python? Create a class and create a getter and a setter method in this class.\n",
    "# ans:\n",
    "# Getter and setter methods are a way to provide controlled access to class attributes in object-oriented programming languages like Python.\n",
    "# Getter methods are used to retrieve the value of a private attribute. They are also known as accessor methods. They typically have a name that begins with get_ and take no arguments.\n",
    "# Setter methods are used to modify the value of a private attribute. They are also known as mutator methods.\n",
    "# They typically have a name that begins with set_ and take a single argument, which is the new value of the attribute.\n",
    "# Here's an example implementation of a Person class that defines a private attribute age and provides a getter and a setter method for it:\n",
    "class Person:\n",
    "    def __init__(self, name, age):\n",
    "        self.name = name\n",
    "        self._age = age\n",
    "        \n",
    "    def get_age(self):\n",
    "        return self._age\n",
    "    \n",
    "    def set_age(self, age):\n",
    "        if age > 0:\n",
    "            self._age = age\n",
    "        else:\n",
    "            print(\"Invalid age.\")\n"
   ]
  },
  {
   "cell_type": "code",
   "execution_count": 8,
   "id": "1a63c486-20af-472a-b91d-6da6f5a5b5e4",
   "metadata": {},
   "outputs": [
    {
     "name": "stdout",
     "output_type": "stream",
     "text": [
      "25\n"
     ]
    }
   ],
   "source": [
    "person = Person(\"Alice\", 25)\n",
    "print(person.get_age())"
   ]
  },
  {
   "cell_type": "code",
   "execution_count": 9,
   "id": "c30e33cd-552b-4506-b324-e1fdca9b782e",
   "metadata": {},
   "outputs": [
    {
     "name": "stdout",
     "output_type": "stream",
     "text": [
      "Invalid age.\n",
      "25\n"
     ]
    }
   ],
   "source": [
    "person.set_age(-5)\n",
    "print(person.get_age()) "
   ]
  },
  {
   "cell_type": "code",
   "execution_count": 10,
   "id": "8c799ed8-18c6-4642-bc07-cbf48e31431a",
   "metadata": {},
   "outputs": [
    {
     "name": "stdout",
     "output_type": "stream",
     "text": [
      "30\n"
     ]
    }
   ],
   "source": [
    "person.set_age(30)\n",
    "print(person.get_age())"
   ]
  },
  {
   "cell_type": "code",
   "execution_count": 11,
   "id": "b90c915d-6999-4ad2-bb7d-90e2e96a927d",
   "metadata": {},
   "outputs": [],
   "source": [
    "# Q5.What is method overriding in python? Write a python code to demonstrate method overriding.\n",
    "# ans:\n",
    "# Method overriding is a feature in object-oriented programming that allows a subclass to provide a different implementation of a method that is already defined in its superclass.\n",
    "# The overriding method must have the same name and the same number and type of parameters as the method it is replacing.\n",
    "# Here's an example implementation of a Vehicle class with a drive method, and a Car subclass that overrides the drive method with its own implementation:\n",
    "class Vehicle:\n",
    "    def __init__(self, name):\n",
    "        self.name = name\n",
    "        \n",
    "    def drive(self):\n",
    "        print(\"This vehicle is driving.\")\n",
    "        \n",
    "        \n",
    "class Car(Vehicle):\n",
    "    def __init__(self, name):\n",
    "        super().__init__(name)\n",
    "        \n",
    "    def drive(self):\n",
    "        print(\"This car is driving.\")\n"
   ]
  },
  {
   "cell_type": "code",
   "execution_count": 12,
   "id": "f157cb44-4016-4bc7-8c6f-389595322ebd",
   "metadata": {},
   "outputs": [
    {
     "name": "stdout",
     "output_type": "stream",
     "text": [
      "This vehicle is driving.\n",
      "This car is driving.\n"
     ]
    }
   ],
   "source": [
    "vehicle = Vehicle(\"Generic Vehicle\")\n",
    "car = Car(\"Honda Civic\")\n",
    "\n",
    "vehicle.drive()\n",
    "car.drive()"
   ]
  },
  {
   "cell_type": "code",
   "execution_count": null,
   "id": "9c4deca1-8733-4374-9ffc-2984943a4525",
   "metadata": {},
   "outputs": [],
   "source": []
  }
 ],
 "metadata": {
  "kernelspec": {
   "display_name": "Python 3 (ipykernel)",
   "language": "python",
   "name": "python3"
  },
  "language_info": {
   "codemirror_mode": {
    "name": "ipython",
    "version": 3
   },
   "file_extension": ".py",
   "mimetype": "text/x-python",
   "name": "python",
   "nbconvert_exporter": "python",
   "pygments_lexer": "ipython3",
   "version": "3.10.8"
  }
 },
 "nbformat": 4,
 "nbformat_minor": 5
}
