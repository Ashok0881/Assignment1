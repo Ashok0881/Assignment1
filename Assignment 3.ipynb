{
 "cells": [
  {
   "cell_type": "code",
   "execution_count": 3,
   "id": "89dc5073-bd6c-4217-92ab-c73d1f4dba2f",
   "metadata": {},
   "outputs": [],
   "source": [
    "# Q. Explain with an example each when to use for loop and a while loop.\n",
    "# ans: For Loop:\n",
    "#A for loop is used when we need to iterate over a sequence of values a certain number of times. It’s useful when we know the exact number of times we need to execute the loop.\n",
    "\n",
    "#Example: Suppose we have a list of numbers and we want to print each number in the list. We can use a for loop to iterate over the list and print each number:"
   ]
  },
  {
   "cell_type": "code",
   "execution_count": 4,
   "id": "d5b41d46-f3c4-441f-bdc1-9cba9f59dd58",
   "metadata": {},
   "outputs": [
    {
     "name": "stdout",
     "output_type": "stream",
     "text": [
      "1\n",
      "2\n",
      "3\n",
      "4\n",
      "5\n"
     ]
    }
   ],
   "source": [
    "numbers = [ 1,2,3,4,5]\n",
    "for num in numbers:\n",
    "    print(num)"
   ]
  },
  {
   "cell_type": "code",
   "execution_count": 5,
   "id": "2b767dff-d026-4d46-9f67-bfb1143c42aa",
   "metadata": {},
   "outputs": [],
   "source": [
    "# While Loop:\n",
    "#A while loop is used when we need to iterate until a certain condition is met. It’s useful when we don’t know how many times we need to execute the loop.\n",
    "\n",
    "#Example: Suppose we want to keep asking the user for input until they enter a valid number between 1 and 10. We can use a while loop to keep asking for input until the user enters a valid number:"
   ]
  },
  {
   "cell_type": "code",
   "execution_count": 9,
   "id": "eec239bb-e4bd-439e-9364-33bdcd63a5ee",
   "metadata": {},
   "outputs": [
    {
     "name": "stdin",
     "output_type": "stream",
     "text": [
      "Enter a number between 1 and 10:  5\n"
     ]
    },
    {
     "name": "stdout",
     "output_type": "stream",
     "text": [
      "you entered:  5\n"
     ]
    }
   ],
   "source": [
    "num = 0\n",
    "while num < 1 or num > 10:\n",
    "    num = int(input('Enter a number between 1 and 10: '))\n",
    "print('you entered: ', num)"
   ]
  },
  {
   "cell_type": "code",
   "execution_count": 10,
   "id": "27a6faf4-2854-4b9a-9f41-920ce44c2e5d",
   "metadata": {},
   "outputs": [],
   "source": [
    "# Q.2.\twrite a Python program to print the sum and product of the first 10 natural numbers using for loop and while loop.\n",
    "#Using For Loop:"
   ]
  },
  {
   "cell_type": "code",
   "execution_count": 11,
   "id": "9075b954-09af-4e3e-876a-2fa91e41fb8e",
   "metadata": {},
   "outputs": [
    {
     "name": "stdout",
     "output_type": "stream",
     "text": [
      "Sum of first 10 natural numbers is: 55\n"
     ]
    }
   ],
   "source": [
    "# Sum of first 10 natural numbers using for loop\n",
    "sum = 0\n",
    "for i in range(1, 11):\n",
    "    sum += i\n",
    "print(\"Sum of first 10 natural numbers is:\", sum)\n"
   ]
  },
  {
   "cell_type": "code",
   "execution_count": 12,
   "id": "e6b2d36c-f6b5-4d7d-ad1c-57963d805741",
   "metadata": {},
   "outputs": [
    {
     "name": "stdout",
     "output_type": "stream",
     "text": [
      "Product of first 10 natural numbers is: 3628800\n"
     ]
    }
   ],
   "source": [
    "# Product of first 10 natural numbers using for loop\n",
    "product = 1\n",
    "for i in range(1, 11):\n",
    "    product *= i\n",
    "print(\"Product of first 10 natural numbers is:\", product)"
   ]
  },
  {
   "cell_type": "code",
   "execution_count": 13,
   "id": "1155a11f-3563-4565-b679-e223364af6b3",
   "metadata": {},
   "outputs": [
    {
     "name": "stdout",
     "output_type": "stream",
     "text": [
      "Sum of first 10 natural numbers is: 55\n"
     ]
    }
   ],
   "source": [
    "# Using While Loop:\n",
    "# Sum of first 10 natural numbers using while loop\n",
    "sum = 0\n",
    "i = 1\n",
    "while i <= 10:\n",
    "    sum += i\n",
    "    i += 1\n",
    "print(\"Sum of first 10 natural numbers is:\", sum)\n"
   ]
  },
  {
   "cell_type": "code",
   "execution_count": 14,
   "id": "fc2f0bcd-eeba-4be2-af0d-e7e6e7337f18",
   "metadata": {},
   "outputs": [
    {
     "name": "stdout",
     "output_type": "stream",
     "text": [
      "Product of first 10 natural numbers is: 3628800\n"
     ]
    }
   ],
   "source": [
    "# Product of first 10 natural numbers using while loop\n",
    "product = 1\n",
    "i = 1\n",
    "while i <= 10:\n",
    "    product *= i\n",
    "    i += 1\n",
    "print(\"Product of first 10 natural numbers is:\", product)\n"
   ]
  },
  {
   "cell_type": "code",
   "execution_count": 15,
   "id": "a63ded99-9678-4035-9b77-c16546e68f6d",
   "metadata": {},
   "outputs": [],
   "source": [
    "#Q3.\tCreate a Python program to compute the electricity bill for a household.\n",
    "#the per-unit charge in rupees as follows: For the first 100 units the user will be charge Rs 4.5 per unit, for the next 100 unit user will be charged Rs 6 per unit, and the for the next 100 unit the user will be charged Rs. 10 per unit. After 300 units and above the user will be charged Rs 20 per unit\n",
    "#You are required to take the units of electricity consumed in a month from the user as input.\n",
    "\n",
    "#your program must pass the test case: when the unit of electricity consumed by the user in a month is 310 the total electricity bill should be 2250.\n"
   ]
  },
  {
   "cell_type": "code",
   "execution_count": 16,
   "id": "f6a337be-f159-40f6-b36f-e4c7496eba9d",
   "metadata": {},
   "outputs": [
    {
     "name": "stdin",
     "output_type": "stream",
     "text": [
      "Enter the units of electricity consumed in a month:  310\n"
     ]
    },
    {
     "name": "stdout",
     "output_type": "stream",
     "text": [
      "The electricity bill for 310 units is Rs. 2250.00\n"
     ]
    }
   ],
   "source": [
    "# ans:\n",
    "units = int(input(\"Enter the units of electricity consumed in a month: \"))\n",
    "bill = 0\n",
    "\n",
    "if units <= 100:\n",
    "    bill = units * 4.5\n",
    "elif units <= 200:\n",
    "    bill = 100 * 4.5 + (units - 100) * 6\n",
    "elif units <= 300:\n",
    "    bill = 100 * 4.5 + 100 * 6 + (units - 200) * 10\n",
    "else:\n",
    "    bill = 100 * 4.5 + 100 * 6 + 100 * 10 + (units - 300) * 20\n",
    "\n",
    "print(\"The electricity bill for {} units is Rs. {:.2f}\".format(units, bill))\n"
   ]
  },
  {
   "cell_type": "code",
   "execution_count": 17,
   "id": "25efdc62-504f-4021-aebd-e30096c871cc",
   "metadata": {},
   "outputs": [],
   "source": [
    "# Q4.\tCreate a list of numbers from 1 to 100. use for loop and while loop to calculate the cube of each number and if the cube that number is divided by 4 or 5 then append that number in a list and print that list"
   ]
  },
  {
   "cell_type": "code",
   "execution_count": 18,
   "id": "122ddc7e-c124-43f6-ae5f-794845f5f393",
   "metadata": {},
   "outputs": [
    {
     "name": "stdout",
     "output_type": "stream",
     "text": [
      "[2, 4, 5, 6, 8, 10, 12, 14, 15, 16, 18, 20, 22, 24, 25, 26, 28, 30, 32, 34, 35, 36, 38, 40, 42, 44, 45, 46, 48, 50, 52, 54, 55, 56, 58, 60, 62, 64, 65, 66, 68, 70, 72, 74, 75, 76, 78, 80, 82, 84, 85, 86, 88, 90, 92, 94, 95, 96, 98, 100]\n"
     ]
    }
   ],
   "source": [
    "#ans:\n",
    "#Using a for loop:\n",
    "numbers = list(range(1, 101))\n",
    "result = []\n",
    "\n",
    "for num in numbers:\n",
    "    cube = num ** 3\n",
    "    if cube % 4 == 0 or cube % 5 == 0:\n",
    "        result.append(num)\n",
    "\n",
    "print(result)\n"
   ]
  },
  {
   "cell_type": "code",
   "execution_count": 19,
   "id": "c210ff0a-b86e-41b9-beab-9cb57480bce6",
   "metadata": {},
   "outputs": [
    {
     "name": "stdout",
     "output_type": "stream",
     "text": [
      "[2, 4, 5, 6, 8, 10, 12, 14, 15, 16, 18, 20, 22, 24, 25, 26, 28, 30, 32, 34, 35, 36, 38, 40, 42, 44, 45, 46, 48, 50, 52, 54, 55, 56, 58, 60, 62, 64, 65, 66, 68, 70, 72, 74, 75, 76, 78, 80, 82, 84, 85, 86, 88, 90, 92, 94, 95, 96, 98, 100]\n"
     ]
    }
   ],
   "source": [
    "# Using a while loop:\n",
    "numbers = list(range(1, 101))\n",
    "result = []\n",
    "\n",
    "i = 0\n",
    "while i < len(numbers):\n",
    "    cube = numbers[i] ** 3\n",
    "    if cube % 4 == 0 or cube % 5 == 0:\n",
    "        result.append(numbers[i])\n",
    "    i += 1\n",
    "\n",
    "print(result)\n"
   ]
  },
  {
   "cell_type": "code",
   "execution_count": 20,
   "id": "8c688ca6-ec80-45ee-bc9a-9e3c0e0f2948",
   "metadata": {},
   "outputs": [
    {
     "name": "stdout",
     "output_type": "stream",
     "text": [
      "The string 'I want to become a data scientist' has 12 vowels: ['I', 'a', 'o', 'e', 'o', 'e', 'a', 'a', 'a', 'i', 'e', 'i']\n"
     ]
    }
   ],
   "source": [
    "# Q5.\twrite a program to filter count vowels in the below given string.\n",
    "#String= ‘I want to become a data scientist’\n",
    "# ans:\n",
    "string = 'I want to become a data scientist'\n",
    "vowels = 'aeiouAEIOU'\n",
    "\n",
    "filtered = [char for char in string if char in vowels]\n",
    "count = len(filtered)\n",
    "\n",
    "print(\"The string '{}' has {} vowels: {}\".format(string, count, filtered))\n"
   ]
  },
  {
   "cell_type": "code",
   "execution_count": null,
   "id": "41dd4718-b1a6-4ed0-a1eb-579849740958",
   "metadata": {},
   "outputs": [],
   "source": []
  }
 ],
 "metadata": {
  "kernelspec": {
   "display_name": "Python 3 (ipykernel)",
   "language": "python",
   "name": "python3"
  },
  "language_info": {
   "codemirror_mode": {
    "name": "ipython",
    "version": 3
   },
   "file_extension": ".py",
   "mimetype": "text/x-python",
   "name": "python",
   "nbconvert_exporter": "python",
   "pygments_lexer": "ipython3",
   "version": "3.10.8"
  }
 },
 "nbformat": 4,
 "nbformat_minor": 5
}
