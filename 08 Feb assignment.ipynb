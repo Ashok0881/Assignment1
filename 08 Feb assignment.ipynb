{
 "cells": [
  {
   "cell_type": "code",
   "execution_count": 3,
   "id": "002556fb-0843-4c59-8bb9-49ffc4ae1011",
   "metadata": {},
   "outputs": [
    {
     "data": {
      "text/plain": [
       "'consider a Vehicle class that can be inherited by different types of vehicles such as cars, trucks, and motorcycles.\\nThe Vehicle class can have properties such as speed, mileage, and fuel type, and methods such as start, stop, and accelerate.\\nHowever, the implementation details of these methods may be different for each type of vehicle.\\nIn this case, we can use abstraction to define the methods as abstract in the Vehicle class, and each subclass can implement these methods in their own way.'"
      ]
     },
     "execution_count": 3,
     "metadata": {},
     "output_type": "execute_result"
    }
   ],
   "source": [
    "# Q1. What is Abstraction in OOps? Explain with an example.\n",
    "# ans:\n",
    "# Abstraction in OOP is the process of hiding the implementation details of an object and exposing only the necessary information to the user. This concept allows the user to interact with the object without knowing how it works internally.\n",
    "# Abstraction is achieved through the use of abstract classes and interfaces. An abstract class is a class that cannot be instantiated and contains one or more abstract methods. An abstract method is a method that has no implementation and is declared with the abstract keyword. An interface, on the other hand, is a collection of abstract methods and constants.\n",
    "# For example\n",
    "'''consider a Vehicle class that can be inherited by different types of vehicles such as cars, trucks, and motorcycles.\n",
    "The Vehicle class can have properties such as speed, mileage, and fuel type, and methods such as start, stop, and accelerate.\n",
    "However, the implementation details of these methods may be different for each type of vehicle.\n",
    "In this case, we can use abstraction to define the methods as abstract in the Vehicle class, and each subclass can implement these methods in their own way.'''\n",
    "\n"
   ]
  },
  {
   "cell_type": "code",
   "execution_count": 4,
   "id": "8514f28b-9d6b-4893-9835-1824f6c0cda8",
   "metadata": {},
   "outputs": [],
   "source": [
    "from abc import ABC, abstractmethod\n",
    "\n",
    "class Vehicle(ABC):\n",
    "    @abstractmethod\n",
    "    def start(self):\n",
    "        pass\n",
    "\n",
    "    @abstractmethod\n",
    "    def stop(self):\n",
    "        pass\n",
    "\n",
    "class Car(Vehicle):\n",
    "    def start(self):\n",
    "        print(\"Starting car\")\n",
    "\n",
    "    def stop(self):\n",
    "        print(\"Stopping car\")"
   ]
  },
  {
   "cell_type": "code",
   "execution_count": 5,
   "id": "1d91af7c-707c-4c9a-87fd-1ba2208f64f8",
   "metadata": {},
   "outputs": [],
   "source": [
    "# Q2. Differentiate between Abstraction and Encapsulation. Explain with an example.\n",
    "# ans:\n",
    "# Abstraction and Encapsulation are two important concepts in object-oriented programming. While they are related, they serve different purposes.\n",
    "# Here are the key differences between Abstraction and Encapsulation:\n",
    "# Abstraction \n",
    "#Abstraction is the process of hiding implementation details and only showing essential features to the users.\n",
    "#It is the ability to create a simple model of a complex system, focusing only on the most relevant details. \n",
    "#It is achieved by creating abstract classes or interfaces, which provide a blueprint for other classes to follow.\n",
    "#The idea is to make the code more modular, reusable, and easier to maintain.\n",
    "# Example:\n",
    "#Consider a car as an example. When we drive a car, we do not need to know how the engine works or how the transmission shifts gears. \n",
    "#All we need to know is how to use the accelerator, brakes, and steering wheel to control the car. \n",
    "#The rest of the details are hidden from us, as they are not relevant to the task at hand.\n",
    "#In this example, the car is the abstraction, which hides the implementation details from the user.\n",
    " \n",
    "# Encapsulation:\n",
    "#Encapsulation is the process of bundling data and methods together within a single unit, such as a class. \n",
    "#It is the mechanism that allows us to control the access to the data, preventing direct manipulation of the internal state of an object.\n",
    "#It is achieved by making the instance variables private and providing public methods to access and modify them.\n",
    "#Example:\n",
    "#Consider a bank account as an example. A bank account has several properties, such as the account number, balance, and interest rate.\n",
    "#These properties should not be directly accessible to the user, as they could be manipulated in unintended ways. \n",
    "#Instead, we create a class for the bank account and make the instance variables private.\n",
    "#We then provide public methods such as deposit(), withdraw(), and get_balance() to access and modify the account properties in a controlled manner. \n",
    "#In this example, the bank account class is encapsulated, as it bundles the data and methods together and controls access to them.\n"
   ]
  },
  {
   "cell_type": "code",
   "execution_count": 1,
   "id": "45402565-2497-4daf-8a1d-084c9d98ce37",
   "metadata": {},
   "outputs": [],
   "source": [
    "# Q3. What is abc module in python? Why is it used?\n",
    "# ans:\n",
    "#The abc module in Python stands for \"Abstract Base Classes\".\n",
    "#It provides an infrastructure for defining abstract base classes and the relationships between them.\n",
    "#An abstract base class is a class that cannot be instantiated directly but defines a common interface that its derived classes must implement. \n",
    "#Abstract base classes are useful for defining common functionality that can be shared among related classes while ensuring that they implement certain methods and properties.\n",
    "#The abc module provides the ABC class that can be subclassed to define abstract base classes, and the abstractmethod decorator that can be used to mark methods as abstract methods that must be implemented by derived classes.\n",
    "#The abc module is used for defining abstract base classes in Python. It helps in enforcing a certain interface or behavior for all classes that inherit from the abstract base class. \n",
    "#By defining the abstract base class, you can specify a set of methods and properties that must be implemented by any class that inherits from it.\n",
    "#Using abstract base classes can help in writing more generic code that can work with any implementation that conforms to the common interface defined by the abstract base class.\n",
    "#It can also make it easier to understand and maintain the code as the interface is well-defined and documented.\n",
    "#Overall, the abc module is a useful tool for designing object-oriented code in Python and ensuring that the code is robust, maintainable, and extensible.\n"
   ]
  },
  {
   "cell_type": "code",
   "execution_count": 2,
   "id": "a9c96d5b-2b5e-4049-ab79-1fe631175faf",
   "metadata": {},
   "outputs": [],
   "source": [
    "# Q4. How can we achieve data abstraction?\n",
    "# ans:\n",
    "#In object-oriented programming, data abstraction is the concept of separating the implementation details of a class from its external interface, allowing users to interact with the class at a high-level, abstract level without worrying about the internal details.\n",
    "# Here are some ways to achieve data abstraction in Python:\n",
    "# 1. Encapsulation: Encapsulation is the process of hiding implementation details and exposing only the essential features of an object.\n",
    "#    It is achieved by using access modifiers (public, private, protected) to restrict the access to the internal data of the class. \n",
    "#    In Python, we can achieve encapsulation by using underscores to indicate the level of access to the attributes and methods of a class.\n",
    "# 2. Abstract Base Classes: Python's built-in abc module provides a way to define abstract base classes that enforce the implementation of certain methods and properties by the subclasses.\n",
    "#    This helps in achieving abstraction by defining a common interface that the users can interact with without worrying about the implementation details.\n",
    "\n",
    "#  3. Inheritance: Inheritance is the process of deriving a new class from an existing class. It allows the derived class to inherit the properties and methods of the parent class, without the need to redefine them.\n",
    " #   This helps in achieving data abstraction by allowing the users to interact with the derived class using the methods and properties of the parent class, without worrying about the implementation details of the derived class.\n",
    "#Overall, data abstraction in Python can be achieved by using various object-oriented programming concepts such as encapsulation, abstract base classes, and inheritance. \n",
    "#By hiding the implementation details of a class and exposing only the essential features, we can make our code more modular, maintainable, and reusable.\n",
    "    "
   ]
  },
  {
   "cell_type": "code",
   "execution_count": 3,
   "id": "e31ff743-bd49-4c47-8290-64431cda5a8b",
   "metadata": {},
   "outputs": [],
   "source": [
    "# Q5. Can we create an instance of an abstract class? Explain your answer.\n",
    "# ans:\n",
    "# No, we cannot create an instance of an abstract class in Python. \n",
    "#    An abstract class is a class that contains at least one abstract method, which is a method that is declared but not implemented in the abstract class.\n",
    "#    An abstract class is used as a blueprint for creating concrete subclasses that implement the abstract methods.\n",
    "#   Since an abstract class contains one or more abstract methods that are not implemented, it cannot be instantiated directly.\n",
    "#    It can only be used as a base class for creating concrete subclasses that implement the abstract methods.\n",
    "# For example, let's say we have an abstract class Shape that contains an abstract method area():\n",
    "\n",
    "from abc import ABC, abstractmethod\n",
    "\n",
    "class Shape(ABC):\n",
    "    @abstractmethod\n",
    "    def area(self):\n",
    "        pass"
   ]
  },
  {
   "cell_type": "code",
   "execution_count": 4,
   "id": "aed894f1-05fa-430d-8b16-6f1259aef3eb",
   "metadata": {},
   "outputs": [],
   "source": [
    "# Since the Shape class contains an abstract method area(), we cannot create an instance of this class directly. Instead, we need to create a concrete subclass that implements the area() method\n",
    "class Rectangle(Shape):\n",
    "    def __init__(self, width, height):\n",
    "        self.width = width\n",
    "        self.height = height\n",
    "        \n",
    "    def area(self):\n",
    "        return self.width * self.height\n"
   ]
  },
  {
   "cell_type": "code",
   "execution_count": 5,
   "id": "c28c1074-8d74-45ad-9ed0-7995f8907613",
   "metadata": {},
   "outputs": [
    {
     "name": "stdout",
     "output_type": "stream",
     "text": [
      "200\n"
     ]
    },
    {
     "ename": "TypeError",
     "evalue": "Can't instantiate abstract class Shape with abstract method area",
     "output_type": "error",
     "traceback": [
      "\u001b[0;31m---------------------------------------------------------------------------\u001b[0m",
      "\u001b[0;31mTypeError\u001b[0m                                 Traceback (most recent call last)",
      "Cell \u001b[0;32mIn[5], line 6\u001b[0m\n\u001b[1;32m      3\u001b[0m \u001b[38;5;28mprint\u001b[39m(rect\u001b[38;5;241m.\u001b[39marea())  \u001b[38;5;66;03m# Output: 200\u001b[39;00m\n\u001b[1;32m      5\u001b[0m \u001b[38;5;66;03m# This will raise a TypeError since Shape is an abstract class and cannot be instantiated\u001b[39;00m\n\u001b[0;32m----> 6\u001b[0m shape \u001b[38;5;241m=\u001b[39m \u001b[43mShape\u001b[49m\u001b[43m(\u001b[49m\u001b[43m)\u001b[49m\n",
      "\u001b[0;31mTypeError\u001b[0m: Can't instantiate abstract class Shape with abstract method area"
     ]
    }
   ],
   "source": [
    "# Here, we have created a concrete subclass Rectangle that extends the Shape class and implements the area() method. We can now create instances of the Rectangle class, but not of the Shape class:\n",
    "rect = Rectangle(10, 20)\n",
    "print(rect.area())  # Output: 200\n",
    "\n",
    "# This will raise a TypeError since Shape is an abstract class and cannot be instantiated\n",
    "shape = Shape()\n"
   ]
  },
  {
   "cell_type": "code",
   "execution_count": null,
   "id": "fe6d79be-b61a-467e-895f-ad1c59dcfcf8",
   "metadata": {},
   "outputs": [],
   "source": [
    "# Therefore, we cannot create an instance of an abstract class directly in Python. Instead, we need to create a concrete subclass that implements the abstract methods of the abstract class.\n"
   ]
  }
 ],
 "metadata": {
  "kernelspec": {
   "display_name": "Python 3 (ipykernel)",
   "language": "python",
   "name": "python3"
  },
  "language_info": {
   "codemirror_mode": {
    "name": "ipython",
    "version": 3
   },
   "file_extension": ".py",
   "mimetype": "text/x-python",
   "name": "python",
   "nbconvert_exporter": "python",
   "pygments_lexer": "ipython3",
   "version": "3.10.8"
  }
 },
 "nbformat": 4,
 "nbformat_minor": 5
}
